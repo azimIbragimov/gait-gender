{
 "cells": [
  {
   "cell_type": "code",
   "execution_count": 1,
   "id": "710fbdb9-b67f-46a2-9eb6-308b0af808ba",
   "metadata": {},
   "outputs": [],
   "source": [
    "import random\n",
    "import numpy as np\n",
    "import pandas as pd"
   ]
  },
  {
   "cell_type": "code",
   "execution_count": 2,
   "id": "96b2c1aa-9bee-438d-9988-9d2ebf685de3",
   "metadata": {},
   "outputs": [],
   "source": [
    "#################\n",
    "# configuration #\n",
    "#################\n",
    "\n",
    "# number of individuals per gender\n",
    "SAMPLE_SIZE = 2500\n",
    "\n",
    "# number of steps from original distribution to corrected distribution\n",
    "STEP_SIZE = 5\n",
    "\n",
    "# number of repetitions per configuration\n",
    "REPEAT = 100\n",
    "\n",
    "# valid annotation values\n",
    "valid_height = set([i for i in range(1,401)])\n",
    "valid_frames = set([i for i in range(1,401)])\n",
    "\n",
    "# bin size for height and speed\n",
    "bin_size = 5"
   ]
  },
  {
   "cell_type": "code",
   "execution_count": 3,
   "id": "b88e153d-3069-4725-97fd-a1dfa6e62f53",
   "metadata": {},
   "outputs": [
    {
     "name": "stdout",
     "output_type": "stream",
     "text": [
      "2397 2502\n"
     ]
    }
   ],
   "source": [
    "#############################\n",
    "# csv loading and filtering #\n",
    "#############################\n",
    "\n",
    "# load annotations\n",
    "df = pd.read_csv('OUMVLP_annotations.csv')\n",
    "\n",
    "# discretize annotation values\n",
    "df['height'] = (df['height']//bin_size)*bin_size\n",
    "df['frames'] = (df['frames']//bin_size)*bin_size\n",
    "\n",
    "# get subjects with valid annotations only\n",
    "df = df.loc[df['height'].isin(valid_height) & df['frames'].isin(valid_frames) & (df['test'] == True)]\n",
    "\n",
    "# reset table indices\n",
    "df = df.reset_index(drop=True)\n",
    "\n",
    "# get separate lists of males and females\n",
    "df_male = df.loc[(df['gender'] == 'M')].drop(['gender', 'age', 'test'], axis=1)\n",
    "df_female = df.loc[(df['gender'] == 'F')].drop(['gender', 'age', 'test'], axis=1)\n",
    "\n",
    "print(len(df_male), len(df_female))"
   ]
  },
  {
   "cell_type": "code",
   "execution_count": null,
   "id": "9381e981-f237-4a51-bdd0-390fa3d1684c",
   "metadata": {
    "tags": []
   },
   "outputs": [],
   "source": [
    "#############################\n",
    "# create population samples #\n",
    "#############################\n",
    "\n",
    "for _p_height in range(0, STEP_SIZE+1):\n",
    "    p_height = _p_height/STEP_SIZE\n",
    "    for _p_frame in range(0, STEP_SIZE+1):\n",
    "        p_frame = _p_frame/STEP_SIZE\n",
    "        for _p_dress in range(0, STEP_SIZE+1):\n",
    "            p_dress = _p_dress/STEP_SIZE\n",
    "\n",
    "            for r in range(REPEAT):\n",
    "                selectedM = []\n",
    "                selectedF = []\n",
    "                i=0\n",
    "                while i < SAMPLE_SIZE:\n",
    "                    q_height = random.random()\n",
    "                    q_frame = random.random()\n",
    "                    q_dress = random.random()\n",
    "                    \n",
    "                    if random.random() < 0.5:\n",
    "                        sample = df_male.sample()\n",
    "                        idM = sample.iloc[0]['ID']\n",
    "                        #print('M', sample.iloc[0]['dress'], sample.iloc[0]['height'], sample.iloc[0]['frames'])\n",
    "                        \n",
    "                        _df = df_female\n",
    "                        if q_dress < p_dress:\n",
    "                            _df = _df.loc[_df['dress'] == False]\n",
    "                        if q_height < p_height:\n",
    "                            _df = _df.loc[_df['height'] == sample.iloc[0]['height']]\n",
    "                        if q_frame < p_frame:\n",
    "                            _df = _df.loc[_df['frames'] == sample.iloc[0]['frames']]\n",
    "                        if len(_df) == 0:\n",
    "                            continue\n",
    "                        sample = _df.sample()\n",
    "                        idF = sample.iloc[0]['ID']\n",
    "                        #print('F', sample.iloc[0]['dress'], sample.iloc[0]['height'], sample.iloc[0]['frames'])\n",
    "                    else:\n",
    "                        _df = df_female\n",
    "                        if q_dress < p_dress:\n",
    "                            _df = _df.loc[_df['dress'] == False]\n",
    "                        sample = _df.sample()\n",
    "                        idF = sample.iloc[0]['ID']\n",
    "                        #print('F', sample.iloc[0]['dress'], sample.iloc[0]['height'], sample.iloc[0]['frames'])\n",
    "\n",
    "                        _df = df_male\n",
    "                        if q_height < p_height:\n",
    "                            _df = _df.loc[_df['height'] == sample.iloc[0]['height']]\n",
    "                        if q_frame < p_frame:\n",
    "                            _df = _df.loc[_df['frames'] == sample.iloc[0]['frames']]\n",
    "                        if len(_df) == 0:\n",
    "                            continue\n",
    "                        sample = _df.sample()\n",
    "                        idM = sample.iloc[0]['ID']\n",
    "                        #print('M', sample.iloc[0]['dress'], sample.iloc[0]['height'], sample.iloc[0]['frames'])\n",
    "\n",
    "                    selectedM.append(idM)\n",
    "                    selectedF.append(idF)\n",
    "                    i += 1\n",
    "\n",
    "                with open('0_samples/{:03d}_{:03d}_{:03d}_{:03d}.txt'.format(_p_height*100//STEP_SIZE, _p_frame*100//STEP_SIZE, _p_dress*100//STEP_SIZE, r), 'w') as fp:\n",
    "                    print(*sorted(selectedM), file=fp)\n",
    "                    print(*sorted(selectedF), file=fp)\n"
   ]
  },
  {
   "cell_type": "code",
   "execution_count": null,
   "id": "2d62b8f5-11d5-4955-a934-58185bf5b254",
   "metadata": {},
   "outputs": [],
   "source": []
  }
 ],
 "metadata": {
  "kernelspec": {
   "display_name": "pytorch3d",
   "language": "python",
   "name": "pytorch3d"
  },
  "language_info": {
   "codemirror_mode": {
    "name": "ipython",
    "version": 3
   },
   "file_extension": ".py",
   "mimetype": "text/x-python",
   "name": "python",
   "nbconvert_exporter": "python",
   "pygments_lexer": "ipython3",
   "version": "3.8.12"
  }
 },
 "nbformat": 4,
 "nbformat_minor": 5
}
